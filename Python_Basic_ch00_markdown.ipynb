{
 "cells": [
  {
   "cell_type": "markdown",
   "id": "78ef2d6d",
   "metadata": {},
   "source": [
    " ## 1.Jupyter Notebook 단축키\n",
    "   - 입력모드: Cell(녹색)\n",
    "   - 명령모드: Cell(파랑)\n",
    " 1. Cell Type 변경\n",
    "   - 명령모드 + m : Markdown 모드 전환\n",
    "   - 명령모드 + y : Code 모드 전환\n",
    "   \n",
    " 2. Cell 실행\n",
    "   - Ctrl + Enter : Cell 실행\n",
    "    \n",
    " 3. Cell 추가\n",
    "    - a : 해당 Cell을 기준으로 위에 Cell 생성\n",
    "    - b : 해당 Cell을 기준으로 아래에 Cell 생성\n",
    " 4. Cell 삭제\n",
    "    - dd : 해당 Cell 삭제\n",
    " 5. Help \n",
    "    - h : 도움말\n",
    "   "
   ]
  },
  {
   "cell_type": "markdown",
   "id": "9bcd329b",
   "metadata": {},
   "source": [
    "## 2.Title\n",
    "# Hello Python\n",
    "## Hello Python\n",
    "### Hello Python\n",
    "#### Hello Python\n",
    "##### Hello Python\n",
    "###### Hello Python"
   ]
  },
  {
   "cell_type": "code",
   "execution_count": null,
   "id": "4885b716",
   "metadata": {},
   "outputs": [],
   "source": []
  },
  {
   "cell_type": "markdown",
   "id": "a0dde7cf",
   "metadata": {},
   "source": [
    "## 3.진하게 & 이텔릭체\n",
    "**python** is really *cool*"
   ]
  },
  {
   "cell_type": "markdown",
   "id": "64347211",
   "metadata": {},
   "source": [
    "## 4.리스트\n",
    "\n",
    "순서가 없는 리스트\n",
    "- 프로그래밍 언어\n",
    "  + 웹프로그래밍 \n",
    "    * JAVA\n",
    "    * JavaScript\n",
    "  + 앱프로그래밍\n",
    "    * JAVA\n",
    "    * Kotlin\n",
    "   + 인공지능\n",
    "    * Python\n",
    "    \n",
    "순서가 있는 리스트\n",
    "1. 사과\n",
    "2. 딸기\n",
    "3. 바나나"
   ]
  },
  {
   "cell_type": "markdown",
   "id": "1321ff75",
   "metadata": {},
   "source": [
    "## 5.파이썬 코드\n",
    "```python\n",
    "a = 10\n",
    "print(a)\n",
    "```"
   ]
  },
  {
   "cell_type": "markdown",
   "id": "3fb8ed89",
   "metadata": {},
   "source": [
    "## 6.하이퍼링크\n",
    "[Python 공홈](https://www.python.org)"
   ]
  },
  {
   "cell_type": "markdown",
   "id": "64a49968",
   "metadata": {},
   "source": [
    "## 7.기타  \n",
    "수식\n",
    "$y=3x+b$  \n",
    "\n",
    "인용구\n",
    ">Life is short, you need python :)"
   ]
  }
 ],
 "metadata": {
  "kernelspec": {
   "display_name": "Python 3 (ipykernel)",
   "language": "python",
   "name": "python3"
  },
  "language_info": {
   "codemirror_mode": {
    "name": "ipython",
    "version": 3
   },
   "file_extension": ".py",
   "mimetype": "text/x-python",
   "name": "python",
   "nbconvert_exporter": "python",
   "pygments_lexer": "ipython3",
   "version": "3.9.7"
  }
 },
 "nbformat": 4,
 "nbformat_minor": 5
}
