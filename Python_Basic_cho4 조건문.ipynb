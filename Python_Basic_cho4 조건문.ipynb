{
 "cells": [
  {
   "cell_type": "code",
   "execution_count": null,
   "metadata": {},
   "outputs": [],
   "source": [
    "조건문(condition)\n",
    "1.if,else,elif\n",
    "\n",
    "특정조건을 만족하는 경우에만 수행할 작업이 있는 경우 사용\n",
    "모든 조건은 boolean으로 표현(예외 사항 있음)\n",
    "if,elif,else 키워드 사용\n",
    "조건문의 경우 if,elif,else 블록 내에 종속 된 코드로 들여쓰기 표현\n",
    "python에서 모든 블록문의 시작점의 마지막에는 :(콜론) 추가\n",
    "'''python\n",
    "\n",
    "#if문 기본 문법\n",
    "\n",
    "#ifelifelse가 하나의 체인으로 연결\n",
    "\n",
    "#위에서 아래로 해석하며, 참인 경우 그 후로는 실행 X\n",
    "\n",
    "if 조건문: 실행문 elif 조건문: 실행문 else: 실행문 '''\n",
    "\n",
    "'''python\n",
    "\n",
    "#서로 다른 if문 if 조건문: 실행문\n",
    "\n",
    "if 조건문: 실행문 '''\n",
    "\n",
    "'''python\n",
    "\n",
    "#중첩 if문 if 조건문: 실행문 if 조건문: 실행문 if 조건문: 실행문 '''"
   ]
  },
  {
   "cell_type": "code",
   "execution_count": null,
   "metadata": {},
   "outputs": [],
   "source": [
    "# if 조건이 1개인 경우(성인 판단)\n",
    "age=int(input(\"몇살 입니까 : \"))\n",
    "adult_age_list=[]\n",
    "if age>=20:\n",
    "    adult_age_list.append(age)\n",
    "    print(\"성인입니다.\")"
   ]
  },
  {
   "cell_type": "code",
   "execution_count": null,
   "metadata": {},
   "outputs": [],
   "source": [
    "#if ~else 조건 1개와 조건 이외의 경우\n",
    "age=int(input(\"몇살 입니까 : \"))\n",
    "adult_age_list=[]\n",
    "student_age_list=[]\n",
    "if age>=20:\n",
    "    adult_age_list.append(age)\n",
    "    print(\"성인입니다.\")\n",
    "else:\n",
    "    student_age_list.append(age)\n",
    "    print(\"학생입니다.\")"
   ]
  },
  {
   "cell_type": "code",
   "execution_count": null,
   "metadata": {},
   "outputs": [],
   "source": [
    "#if ~elif 조건이 2개 이상인 경우\n",
    "\n",
    "grade=int(input(\"몇 학년 입니까\"))  # grade=3을 내가 바꿔본 거\n",
    "if grade==4:\n",
    "    print(\"4학년\")\n",
    "elif grade==3:\n",
    "    print(\"3학년\")\n",
    "elif grade==2:\n",
    "    print(\"2학년\")\n",
    "elif grade==1:\n",
    "    print(\"1학년\")"
   ]
  },
  {
   "cell_type": "code",
   "execution_count": null,
   "metadata": {},
   "outputs": [],
   "source": [
    "#if~elif~else 조건 2개 이상과 조건 이외의 경우\n",
    "score=int(input(\"몇점 입니까\"))  #score=95\n",
    "\n",
    "if score>=90:\n",
    "    print(\"1등급\")\n",
    "elif score>=80:\n",
    "    print(\"2등급\")\n",
    "elif score>=70:\n",
    "    print(\"3등급\")\n",
    "elif score>=60:\n",
    "    print(\"4등급\")\n",
    "else:\n",
    "    print(\"5등급\")"
   ]
  },
  {
   "cell_type": "code",
   "execution_count": null,
   "metadata": {},
   "outputs": [],
   "source": [
    "2.if의 조건이 boolean인 경우\n",
    "일반적으로 조건문은 boolean\n",
    "\n",
    "하지만, 정수, 실수, 문자열, 리스트 등 기본 타입도 조건에 사용 가능\n",
    "\n",
    "False로 간주되는 값(각 타입의 기본값)\n",
    "\n",
    "None\n",
    "0\n",
    "0.0\n",
    "\"\"\n",
    "[]\n",
    "()\n",
    "{} +set()\n",
    "그 밖에 모두 True로 간주"
   ]
  },
  {
   "cell_type": "code",
   "execution_count": null,
   "metadata": {},
   "outputs": [],
   "source": [
    "3.논리 연산자(AND,OR,NOT)\n",
    "논리표 -AND\n",
    "\n",
    "+ T and T : T\n",
    "+ F and T : F\n",
    "+ T and F : F\n",
    "+ F and F : F\n",
    "- OR\n",
    "+ T and T : T\n",
    "+ F and T : T\n",
    "+ T and F : T\n",
    "+ F and F : F\n",
    "\n",
    "-NOT\n",
    "+NOT T : F\n",
    "+NOT F : T"
   ]
  },
  {
   "cell_type": "code",
   "execution_count": null,
   "metadata": {},
   "outputs": [],
   "source": []
  },
  {
   "cell_type": "code",
   "execution_count": null,
   "metadata": {},
   "outputs": [],
   "source": []
  },
  {
   "cell_type": "code",
   "execution_count": null,
   "metadata": {},
   "outputs": [],
   "source": []
  },
  {
   "cell_type": "code",
   "execution_count": null,
   "metadata": {},
   "outputs": [],
   "source": []
  },
  {
   "cell_type": "code",
   "execution_count": null,
   "metadata": {},
   "outputs": [],
   "source": []
  },
  {
   "cell_type": "code",
   "execution_count": null,
   "metadata": {},
   "outputs": [],
   "source": []
  },
  {
   "cell_type": "code",
   "execution_count": null,
   "metadata": {},
   "outputs": [],
   "source": []
  }
 ],
 "metadata": {
  "kernelspec": {
   "display_name": "Python 3",
   "language": "python",
   "name": "python3"
  },
  "language_info": {
   "codemirror_mode": {
    "name": "ipython",
    "version": 3
   },
   "file_extension": ".py",
   "mimetype": "text/x-python",
   "name": "python",
   "nbconvert_exporter": "python",
   "pygments_lexer": "ipython3",
   "version": "3.7.6"
  }
 },
 "nbformat": 4,
 "nbformat_minor": 4
}
