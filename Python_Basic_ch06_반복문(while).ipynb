{
 "cells": [
  {
   "cell_type": "markdown",
   "id": "072bef9c",
   "metadata": {},
   "source": [
    "## 반복문(while)\n",
    "- 반복회수가 정해져 있지 않은 경우 사용\n",
    "- 조건이 True이면 계속 반복\n",
    "- 조건이 False이면 반복 종료\n",
    "- while 반복문은 \"무한 loop(데드락)\" 조심 -> 다음 코드로 못 넘어감\n",
    "- \"무한 loop(데드락)\"을 사용 할 경우 반드시 break문 함께 사용!\n",
    "\n",
    "\n",
    "'''python\n",
    "#while 기본 문법\n",
    "while 조건:\n",
    "    실행문\n",
    "'''"
   ]
  },
  {
   "cell_type": "code",
   "execution_count": 3,
   "id": "53f78cf9",
   "metadata": {},
   "outputs": [
    {
     "name": "stdout",
     "output_type": "stream",
     "text": [
      "점수:-3\n",
      "0~100까지의 값을 입력하시오\n",
      "점수:-3\n",
      "0~100까지의 값을 입력하시오\n",
      "점수:-3\n",
      "0~100까지의 값을 입력하시오\n",
      "점수:-3\n",
      "0~100까지의 값을 입력하시오\n",
      "점수:2\n"
     ]
    }
   ],
   "source": [
    "# 사용자가 0~100 사이의 값을 입력\n",
    "\n",
    "\n",
    "\n",
    "while True:\n",
    "    \n",
    "    score=int(input(\"점수:\"))\n",
    "    \n",
    "    if score>=0 and score<=100:\n",
    "         break\n",
    "    else:\n",
    "        print(\"0~100까지의 값을 입력하시오\")"
   ]
  },
  {
   "cell_type": "code",
   "execution_count": 8,
   "id": "2ffe1157",
   "metadata": {},
   "outputs": [
    {
     "name": "stdout",
     "output_type": "stream",
     "text": [
      "5050\n"
     ]
    }
   ],
   "source": [
    "# 1~100의 값의 총합\n",
    "total=0\n",
    "for i in range(1,101):\n",
    "    total+=i\n",
    "\n",
    "i=0\n",
    "sum=0\n",
    "while True:\n",
    "    sum+=i\n",
    "    i+=1\n",
    "    if i==100:\n",
    "        break\n",
    "print(sum)\n",
    "    \n",
    "    "
   ]
  },
  {
   "cell_type": "code",
   "execution_count": null,
   "id": "038b0f9c",
   "metadata": {},
   "outputs": [],
   "source": []
  },
  {
   "cell_type": "code",
   "execution_count": null,
   "id": "53112c37",
   "metadata": {},
   "outputs": [],
   "source": []
  },
  {
   "cell_type": "code",
   "execution_count": null,
   "id": "de295804",
   "metadata": {},
   "outputs": [],
   "source": []
  },
  {
   "cell_type": "code",
   "execution_count": null,
   "id": "80f2eafb",
   "metadata": {},
   "outputs": [],
   "source": []
  },
  {
   "cell_type": "code",
   "execution_count": null,
   "id": "5ec4f46d",
   "metadata": {},
   "outputs": [],
   "source": []
  },
  {
   "cell_type": "code",
   "execution_count": null,
   "id": "07aee9ba",
   "metadata": {},
   "outputs": [],
   "source": []
  },
  {
   "cell_type": "code",
   "execution_count": null,
   "id": "bbb9da08",
   "metadata": {},
   "outputs": [],
   "source": []
  },
  {
   "cell_type": "code",
   "execution_count": null,
   "id": "301f1142",
   "metadata": {},
   "outputs": [],
   "source": []
  },
  {
   "cell_type": "code",
   "execution_count": null,
   "id": "a69d271d",
   "metadata": {},
   "outputs": [],
   "source": []
  }
 ],
 "metadata": {
  "kernelspec": {
   "display_name": "Python 3 (ipykernel)",
   "language": "python",
   "name": "python3"
  },
  "language_info": {
   "codemirror_mode": {
    "name": "ipython",
    "version": 3
   },
   "file_extension": ".py",
   "mimetype": "text/x-python",
   "name": "python",
   "nbconvert_exporter": "python",
   "pygments_lexer": "ipython3",
   "version": "3.9.7"
  }
 },
 "nbformat": 4,
 "nbformat_minor": 5
}
