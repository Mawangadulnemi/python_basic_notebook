{
 "cells": [
  {
   "cell_type": "markdown",
   "id": "abbdaac1",
   "metadata": {},
   "source": [
    "## 컬렉션 타입\n",
    " - 변수 : 하나의 값을 저장할 수 있는 메모리 공간\n",
    " - 컬렉션 타입 : 다양한 자료형의 여러 값을 저장 가능\n",
    " - list, dict, tuple, set\n",
    " \n",
    "1. list[]\n",
    "- 시퀀스 자료형(연속 된 값 저장) → 정렬 가능\n",
    "- mutable(생성 후 변경 가능)\n",
    "- index 사용 → slicing 가능\n",
    "- packing과 unpacking 가능\n",
    "- 멤버함수: append(), extend(), insert(), remove(), pop(), sort()\n",
    "\n",
    "2. tuple()\n",
    "- 시퀀스 자료형(연속 된 값 저장) → 정렬 불가능\n",
    "- immutable(생성 후 변경 불가능)\n",
    "- index 사용 → slicing 가능\n",
    "- () 생략 가능\n",
    "- 1개 원소만 가지는 경우 , 사용 → (1,)\n",
    "\n",
    "3.dict{key:value}\n",
    "- key, value 한 상으로 구성 된 구조\n",
    "- key를 통해서 value 접근\n",
    "- key 중복 불가, value 중복 가능\n",
    "- 멤버함수: update(), get(), keys(), value(), items()\n",
    "\n",
    "4.set{}\n",
    "- dict type에서 key만 활용하는 데이터 구조로 이해\n",
    "- 수학 집합과 같은 개념\n",
    "- 순서 없음 → index 없음\n",
    "- set 구조 내 중복값 허용 안함\n",
    "- 멤버함수: union(), intersection(), difference() 등"
   ]
  },
  {
   "cell_type": "code",
   "execution_count": 4,
   "id": "7883d85f",
   "metadata": {},
   "outputs": [],
   "source": [
    "# list 초기화\n",
    "# 1. []\n",
    "# 2. list()\n",
    "\n",
    "list_a = []\n",
    "list_b = [1, 2, 3]\n",
    "list_c = [\"cnu\", 3.14, [1, 2, 3]]"
   ]
  },
  {
   "cell_type": "code",
   "execution_count": 1,
   "id": "3f40f85f",
   "metadata": {},
   "outputs": [
    {
     "name": "stdout",
     "output_type": "stream",
     "text": [
      "['H', 'e', 'l', 'l', 'o']\n",
      "[1, 2, 3]\n"
     ]
    }
   ],
   "source": [
    "str_a = \"Hello\"\n",
    "list_d = list(str_a)  # 문자열 → list 행변환\n",
    "print(list_d)\n",
    "\n",
    "tuple_a = (1, 2, 3)\n",
    "list_e = list(tuple_a)\n",
    "print(list_e)"
   ]
  },
  {
   "cell_type": "code",
   "execution_count": 1,
   "id": "947dae1b",
   "metadata": {},
   "outputs": [
    {
     "name": "stdout",
     "output_type": "stream",
     "text": [
      "4\n",
      "[2, 3]\n",
      "[1, 2]\n",
      "[1, 2]\n"
     ]
    }
   ],
   "source": [
    "list_f = [1, 2, 3, 4, 5]\n",
    "print(list_f[3])\n",
    "print(list_f[1:3])\n",
    "print(list_f[:2])\n",
    "print(list_f[:list_f.index(3)])"
   ]
  },
  {
   "cell_type": "code",
   "execution_count": 2,
   "id": "8cd84070",
   "metadata": {},
   "outputs": [
    {
     "name": "stdout",
     "output_type": "stream",
     "text": [
      "[1, 2, 3, 10]\n"
     ]
    }
   ],
   "source": [
    "#  append() : list 마지막에 값을 추가\n",
    "a = [1, 2, 3]\n",
    "a.append(10)\n",
    "print(a)"
   ]
  },
  {
   "cell_type": "code",
   "execution_count": 5,
   "id": "f1b288a9",
   "metadata": {},
   "outputs": [
    {
     "name": "stdout",
     "output_type": "stream",
     "text": [
      "[1, 99, 2, 3]\n"
     ]
    }
   ],
   "source": [
    "# insert() : list 원하는 인덱스 위치에 값을 추가\n",
    "a = [1, 2, 3]\n",
    "a.insert(1, 99)  # insert(index,num)\n",
    "print(a)"
   ]
  },
  {
   "cell_type": "code",
   "execution_count": 6,
   "id": "0ab7b289",
   "metadata": {},
   "outputs": [
    {
     "name": "stdout",
     "output_type": "stream",
     "text": [
      "[1, 2, 3, [4, 5, 6]]\n"
     ]
    }
   ],
   "source": [
    "# extend() : list와 list 병합\n",
    "a = [1, 2, 3]\n",
    "b = [4, 5, 6]\n",
    "\n",
    "a.append(b)\n",
    "print(a)"
   ]
  },
  {
   "cell_type": "code",
   "execution_count": 6,
   "id": "d4b44f48",
   "metadata": {},
   "outputs": [
    {
     "name": "stdout",
     "output_type": "stream",
     "text": [
      "[1, 2, 3, 4, 5, 6]\n"
     ]
    }
   ],
   "source": [
    "a = [1, 2, 3]\n",
    "b = [4, 5, 6]\n",
    "# a.extend(b)\n",
    "a+=b\n",
    "print(a)"
   ]
  },
  {
   "cell_type": "code",
   "execution_count": 12,
   "id": "ebb3844d",
   "metadata": {},
   "outputs": [
    {
     "name": "stdout",
     "output_type": "stream",
     "text": [
      "[1, 2, 3]\n"
     ]
    }
   ],
   "source": [
    "# remove(): 값을 찾아서 삭제(인덱스 x)\n",
    "\n",
    "a=[1,2,3]\n",
    "a.remove(2)\n",
    "\n",
    "print(a)"
   ]
  },
  {
   "cell_type": "code",
   "execution_count": 38,
   "id": "b77682d4",
   "metadata": {},
   "outputs": [
    {
     "name": "stdout",
     "output_type": "stream",
     "text": [
      "[4, 5]\n",
      "6\n"
     ]
    }
   ],
   "source": [
    "# pop(): 인덱스를 찾아서 삭제(+ 삭제 전 값을 변수에 저장 가능)\n",
    "a=[4,5,6]\n",
    "b=a.pop(2)\n",
    "print(a)\n",
    "print(b)\n",
    "\n"
   ]
  },
  {
   "cell_type": "code",
   "execution_count": 17,
   "id": "fad5b63e",
   "metadata": {},
   "outputs": [
    {
     "name": "stdout",
     "output_type": "stream",
     "text": [
      "2\n"
     ]
    }
   ],
   "source": [
    "# index(): 찾고자 하는 값의 인덱스 번호 출력\n",
    "a=[8,10,20,5,3]\n",
    "print(a.index(20))"
   ]
  },
  {
   "cell_type": "code",
   "execution_count": 28,
   "id": "5f7a2732",
   "metadata": {},
   "outputs": [
    {
     "name": "stdout",
     "output_type": "stream",
     "text": [
      "pjm9957\n"
     ]
    }
   ],
   "source": [
    "email=\"pjm9957@gmail.com\"\n",
    "sep_idx=email.index(\"@\")\n",
    "email=email[:sep_idx]\n",
    "print(email)"
   ]
  },
  {
   "cell_type": "code",
   "execution_count": 30,
   "id": "5fd3d9d9",
   "metadata": {},
   "outputs": [
    {
     "name": "stdout",
     "output_type": "stream",
     "text": [
      "True\n",
      "False\n"
     ]
    }
   ],
   "source": [
    "# in: list내의 해당 값이 존재여부(True,False)\n",
    "a=[1,2,3]\n",
    "print(3 in a)\n",
    "print(4 in a)"
   ]
  },
  {
   "cell_type": "code",
   "execution_count": 41,
   "id": "d5c816b0",
   "metadata": {},
   "outputs": [
    {
     "name": "stdout",
     "output_type": "stream",
     "text": [
      "[30, 50, 20, 564, 354, 34, 62]\n",
      "[20, 30, 34, 50, 62, 354, 564]\n",
      "==================================================\n",
      "[564, 354, 62, 50, 34, 30, 20]\n"
     ]
    }
   ],
   "source": [
    "#sort() and sorted(): list정렬  tuple형은 불가\n",
    "# - sort(): 원본 list 정렬\n",
    "# - sorted(): list 복제 후 정렬\n",
    "\n",
    "a=[30,50,20,564,354,34,62]\n",
    "b = sorted(a)  # 원본 유지  #  정렬 defalt: 오름차순\n",
    "\n",
    "print(a)\n",
    "print(b)\n",
    "print(\"=\" * 50)\n",
    "a.sort(reverse=True)  #내림차순\n",
    "print(a)"
   ]
  },
  {
   "cell_type": "markdown",
   "id": "f209529b",
   "metadata": {},
   "source": [
    "### 2.tuple"
   ]
  },
  {
   "cell_type": "code",
   "execution_count": 46,
   "id": "0173ea84",
   "metadata": {},
   "outputs": [
    {
     "name": "stdout",
     "output_type": "stream",
     "text": [
      "<class 'list'>\n",
      "<class 'tuple'>\n",
      "<class 'tuple'>\n",
      "[99, 2, 3]\n",
      "(1, 2, 3)\n"
     ]
    }
   ],
   "source": [
    "a=[1,2,3]  # list type\n",
    "b=(1,2,3)  #  tuple type\n",
    "c=5,6,7    #  tuple typle\n",
    "\n",
    "print(type(a))\n",
    "print(type(b))\n",
    "print(type(c))\n",
    "\n",
    "a[0]=99\n",
    "print(a)\n",
    "\n",
    "b[0]=99\n",
    "print(b)"
   ]
  },
  {
   "cell_type": "code",
   "execution_count": 49,
   "id": "eb41c722",
   "metadata": {},
   "outputs": [
    {
     "name": "stdout",
     "output_type": "stream",
     "text": [
      "(1, 2, 3)\n",
      "1 2 3\n"
     ]
    }
   ],
   "source": [
    "# packing and unpacking\n",
    "# - ilst와 tuple 가능\n",
    "# - () -> 값을 묶음(packing)\n",
    "\n",
    "\n",
    "tuple_num=(1,2,3)  #packing\n",
    "a,b,c=tuple_num  # unpacking\n",
    "print(tuple_num)\n",
    "print(a,b,c)\n"
   ]
  },
  {
   "cell_type": "code",
   "execution_count": 62,
   "id": "6374dcbc",
   "metadata": {},
   "outputs": [
    {
     "name": "stdout",
     "output_type": "stream",
     "text": [
      "9\n",
      "5\n"
     ]
    }
   ],
   "source": [
    "### 연습문제\n",
    "\n",
    "a=5\n",
    "b=9\n",
    "\n",
    "#코드 작성\n",
    "\n",
    "\n",
    "# # 풀이 1\n",
    "# box=a  # box에 a대입\n",
    "# a=b  # a에 b대입\n",
    "# b=box\n",
    "\n",
    "\n",
    "# 풀이 2\n",
    "if a==b:\n",
    "    pass\n",
    "else:\n",
    "    if a<b:\n",
    "    difffernce1=abs(b-a)\n",
    "    difffernce2=a-b\n",
    "    a+=difffernce1  # a=9\n",
    "    b+=difffernce2\n",
    "    else:\n",
    "        pass\n",
    "#풀이 3\n",
    "# a,b=b,a\n",
    "\n",
    "\n",
    "print(a)\n",
    "print(b)\n",
    "\n"
   ]
  },
  {
   "cell_type": "markdown",
   "id": "9174efad",
   "metadata": {},
   "source": [
    "### 3.dict"
   ]
  },
  {
   "cell_type": "code",
   "execution_count": null,
   "id": "358a1d9e",
   "metadata": {},
   "outputs": [],
   "source": [
    "dict_a={\"korea\":\"seoul\",\n",
    "       \"canada\": \"ottawa\",\n",
    "        \"usa\":\"washingto D.C\"}\n",
    "\n",
    "dict_b={0:1,1:6,:2:4,3:9}\n",
    "print(dict_a[\"canada\"])\n",
    "print(dict_b[3])"
   ]
  },
  {
   "cell_type": "code",
   "execution_count": 63,
   "id": "c3c315be",
   "metadata": {},
   "outputs": [
    {
     "name": "stdout",
     "output_type": "stream",
     "text": [
      "{'korea': 'seoul', 'canada': 'ottawa', 'usa': 'washington D.C', 'japan': 'kyoto', 'japan2': 'kyoto'}\n",
      "{'canada': 'ottawa',\n",
      " 'japan': 'kyoto',\n",
      " 'japan2': 'kyoto',\n",
      " 'korea': 'seoul',\n",
      " 'usa': 'washington D.C'}\n"
     ]
    }
   ],
   "source": [
    "import pprint\n",
    "dict_a={\"korea\":\"seoul\",\n",
    "       \"canada\" : \"ottawa\",\n",
    "        \"usa\":\"washington D.C\"}\n",
    "\n",
    "dict_a[\"japan\"]=\"tokyo\"\n",
    "dict_a[\"japan\"]=\"kyoto\"\n",
    "dict_a[\"japan2\"]=\"kyoto\"\n",
    "print(dict_a)\n",
    "\n",
    "pprint.pprint(dict_a)"
   ]
  },
  {
   "cell_type": "code",
   "execution_count": 65,
   "id": "1238a76f",
   "metadata": {},
   "outputs": [
    {
     "name": "stdout",
     "output_type": "stream",
     "text": [
      "{'a': 9, 'b': 2, 'd': 4, 'e': 5}\n"
     ]
    }
   ],
   "source": [
    "# update(): dict와 dict의 병합\n",
    "\n",
    "a={\n",
    "    \"a\":1,\n",
    "    \"b\":2,\n",
    "}\n",
    "\n",
    "\n",
    "\n",
    "b={\n",
    "    \"a\":9,\n",
    "    \"d\":4,\n",
    "    \"e\":5\n",
    "}\n",
    "a.update(b)\n",
    "print(a)"
   ]
  },
  {
   "cell_type": "code",
   "execution_count": 66,
   "id": "40d55754",
   "metadata": {},
   "outputs": [
    {
     "name": "stdout",
     "output_type": "stream",
     "text": [
      "{'b': 2, 'd': 4, 'e': 5}\n",
      "9\n"
     ]
    }
   ],
   "source": [
    "# pop(): dict 항목 삭제\n",
    "\n",
    "c=a.pop(\"a\")\n",
    "print(a)\n",
    "print(c)"
   ]
  },
  {
   "cell_type": "code",
   "execution_count": 72,
   "id": "6a76f1f2",
   "metadata": {},
   "outputs": [
    {
     "name": "stdout",
     "output_type": "stream",
     "text": [
      "5\n",
      "None\n"
     ]
    }
   ],
   "source": [
    "# 값 접근\n",
    "print(a[\"e\"])\n",
    "#print(a[\"f\"])\n",
    "print(a.get(\"f\"))\n"
   ]
  },
  {
   "cell_type": "code",
   "execution_count": 73,
   "id": "432a8e77",
   "metadata": {},
   "outputs": [
    {
     "name": "stdout",
     "output_type": "stream",
     "text": [
      "True\n"
     ]
    }
   ],
   "source": [
    "# in\n",
    "print(\"b\" in a)"
   ]
  },
  {
   "cell_type": "code",
   "execution_count": 74,
   "id": "b088cd44",
   "metadata": {},
   "outputs": [
    {
     "name": "stdout",
     "output_type": "stream",
     "text": [
      "{'b': 2, 'd': 4, 'e': 5}\n",
      "{}\n"
     ]
    }
   ],
   "source": [
    "# clear(): dict 초기화\n",
    "print(a)\n",
    "a.clear()\n",
    "print(a)"
   ]
  },
  {
   "cell_type": "code",
   "execution_count": null,
   "id": "8ef612b4",
   "metadata": {},
   "outputs": [],
   "source": []
  },
  {
   "cell_type": "code",
   "execution_count": null,
   "id": "71fe3015",
   "metadata": {},
   "outputs": [],
   "source": []
  },
  {
   "cell_type": "code",
   "execution_count": null,
   "id": "809455f6",
   "metadata": {},
   "outputs": [],
   "source": []
  },
  {
   "cell_type": "code",
   "execution_count": null,
   "id": "12ec4c2b",
   "metadata": {},
   "outputs": [],
   "source": []
  }
 ],
 "metadata": {
  "kernelspec": {
   "display_name": "Python 3 (ipykernel)",
   "language": "python",
   "name": "python3"
  },
  "language_info": {
   "codemirror_mode": {
    "name": "ipython",
    "version": 3
   },
   "file_extension": ".py",
   "mimetype": "text/x-python",
   "name": "python",
   "nbconvert_exporter": "python",
   "pygments_lexer": "ipython3",
   "version": "3.9.7"
  }
 },
 "nbformat": 4,
 "nbformat_minor": 5
}
