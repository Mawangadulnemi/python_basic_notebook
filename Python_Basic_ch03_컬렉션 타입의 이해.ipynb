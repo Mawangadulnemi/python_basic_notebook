{
 "cells": [
  {
   "cell_type": "markdown",
   "id": "2de6ac02",
   "metadata": {},
   "source": [
    "## 컬렉션 타입\n",
    "- 변수: 하나에 값을 저장할 수 있는 메모리 공간\n",
    "- 컬렉션 타입: 다앵한 자료형의 여러값을 저장 가능\n",
    "- list, dict, set, tuple\n",
    "\n",
    "1. list[]\n",
    "- 시퀀스 자료형(연속된 값 저장) -> 정렬 가능\n",
    "- mutable(생성 후 변경 가능)\n",
    "- index 사용-> slicing 적용 가능\n",
    "- packing & unpacking 가능\n",
    "- 멤버함수 : append(),remove(),pop(),extend(), insert(), sort()\n",
    "\n",
    "2. tuple()\n",
    "- 시퀀스 자료형(연속 된 값 저장) -> 정렬 가능\n",
    "- immutuple(생성 후 변경 불가능)\n",
    "- index 사용 -> slicing 가능\n",
    "- ()생략 가능\n",
    "- 1개의 원소만 가지는 경우 ,사용 -> (1,)\n",
    "\n",
    "3. dict{key:value}\n",
    "- key,value 한 쌍으로 구성 된 구조\n",
    "- key를 통해서 value에 접근\n",
    "- key 중복 불가, value는 가능\n",
    "- 순서 없음-> index없음\n",
    "- 멤버함수: update(), get(), keys(), values(), items()\n",
    "\n",
    "\n",
    "4. set{}\n",
    "- dict type에서 key만 활용하는 데이터 구조로 이해\n",
    "- 수학 집합과 같은 개념\n",
    "- 순서 없음 -> index 개념 적용 불가\n",
    "- set 구조 내 중복값 허용 안함\n",
    "- 멤버함수 : union(), intersection(), difference() 등"
   ]
  },
  {
   "cell_type": "code",
   "execution_count": 5,
   "id": "220d27e8",
   "metadata": {},
   "outputs": [
    {
     "name": "stdout",
     "output_type": "stream",
     "text": [
      "['cnu', 3.14, [1, 2, 3]]\n"
     ]
    }
   ],
   "source": [
    "# # list 초기화\n",
    "1.[]\n",
    "2.list()\n",
    "\n",
    "list_a=[]\n",
    "list_b=[1,2,3]\n",
    "list_c=[\"cnu\",3.14,[1,2,3]]\n",
    "print(list_c)"
   ]
  },
  {
   "cell_type": "code",
   "execution_count": 6,
   "id": "eefe6f1c",
   "metadata": {
    "scrolled": true
   },
   "outputs": [
    {
     "name": "stdout",
     "output_type": "stream",
     "text": [
      "['H', 'e', 'l', 'l', 'o']\n",
      "[1, 2, 3]\n"
     ]
    }
   ],
   "source": [
    "str_a = \"Hello\"\n",
    "list_d=list(str_a)  # 문자열 -> list 형변환\n",
    "print(list_d)\n",
    "\n",
    "tuple_a=(1,2,3)\n",
    "list_e=list(tuple_a)\n",
    "print(list_e)"
   ]
  },
  {
   "cell_type": "code",
   "execution_count": 12,
   "id": "7134b396",
   "metadata": {
    "scrolled": true
   },
   "outputs": [
    {
     "name": "stdout",
     "output_type": "stream",
     "text": [
      "4\n"
     ]
    }
   ],
   "source": [
    "list_f=[1,2,3,4,5]\n",
    "print(list_f[3])"
   ]
  },
  {
   "cell_type": "code",
   "execution_count": 22,
   "id": "3c4c0d7e",
   "metadata": {},
   "outputs": [
    {
     "name": "stdout",
     "output_type": "stream",
     "text": [
      "[1, 2, 3, '10']\n"
     ]
    }
   ],
   "source": [
    "# append(): list 마지막에 값을 추가\n",
    "a=[1,2,3]\n",
    "a.append(10)\n",
    "print(a)"
   ]
  },
  {
   "cell_type": "code",
   "execution_count": 21,
   "id": "f1dbc3e8",
   "metadata": {},
   "outputs": [
    {
     "name": "stdout",
     "output_type": "stream",
     "text": [
      "[1, 2, 10, 3]\n"
     ]
    }
   ],
   "source": [
    "# insert() : list 원하는 인덱스 위치에 값을 추가\n",
    "a=[1,2,3]\n",
    "a.insert(2,10)\n",
    "print(a)"
   ]
  },
  {
   "cell_type": "code",
   "execution_count": 28,
   "id": "68d4a75d",
   "metadata": {},
   "outputs": [
    {
     "name": "stdout",
     "output_type": "stream",
     "text": [
      "[1, 2, 3, 6, 5, 4]\n"
     ]
    }
   ],
   "source": [
    "# extend(): list와 list의 병합\n",
    "a=[1,2,3]\n",
    "b=[6,5,4]\n",
    "a.append(b)  # 프린트 시 리스트까지 출력됨\n",
    "print(a)\n",
    "a.extend(b) # 값을 하나의 a리스트로 넣는 것\n",
    "print(a)"
   ]
  }
 ],
 "metadata": {
  "kernelspec": {
   "display_name": "Python 3 (ipykernel)",
   "language": "python",
   "name": "python3"
  },
  "language_info": {
   "codemirror_mode": {
    "name": "ipython",
    "version": 3
   },
   "file_extension": ".py",
   "mimetype": "text/x-python",
   "name": "python",
   "nbconvert_exporter": "python",
   "pygments_lexer": "ipython3",
   "version": "3.9.7"
  }
 },
 "nbformat": 4,
 "nbformat_minor": 5
}
