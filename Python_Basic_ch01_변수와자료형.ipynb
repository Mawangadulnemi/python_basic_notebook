{
 "cells": [
  {
   "cell_type": "markdown",
   "id": "9c1ef03b",
   "metadata": {},
   "source": [
    "### 1.출력 함수(print)\n",
    "print() 함수\n",
    "- ()의 값을 출력해주는 함수\n",
    "- 변수 값을 확인하는 용도로도 사용\n"
   ]
  },
  {
   "cell_type": "code",
   "execution_count": 8,
   "id": "2c914a20",
   "metadata": {},
   "outputs": [
    {
     "name": "stdout",
     "output_type": "stream",
     "text": [
      "Hello Python\n",
      "Hello Python\n",
      "25\n",
      "3.14\n",
      "True\n"
     ]
    }
   ],
   "source": [
    "print(\"Hello Python\")\n",
    "print('Hello Python')\n",
    "print(25)\n",
    "print(3.14)\n",
    "print(True)"
   ]
  },
  {
   "cell_type": "markdown",
   "id": "b59f1b95",
   "metadata": {},
   "source": [
    "#### 참고. Escape 코드\n",
    "- 문자열 내의 일부 문자의 의미를 달리하며 특정한 효과를 주는 것\n",
    "- \\n : 한줄개행\n",
    "- \\t : 탭(8칸 공백)"
   ]
  },
  {
   "cell_type": "code",
   "execution_count": null,
   "id": "0cddafc8",
   "metadata": {},
   "outputs": [],
   "source": [
    "print(\"Hello \\n Python\")\n",
    "print(\"Hello \\t Python\")\n"
   ]
  },
  {
   "cell_type": "markdown",
   "id": "bec380ec",
   "metadata": {},
   "source": [
    "소수점 출력하기\n",
    "- {0:3d}: 0번째의 3자리 정수(3글자,d(정수)\n",
    "- {1:3.2f}: 1번째의 3자리 정수.두자리 소수점(f 실수)"
   ]
  },
  {
   "cell_type": "code",
   "execution_count": 22,
   "id": "5946c8e6",
   "metadata": {},
   "outputs": [
    {
     "name": "stdout",
     "output_type": "stream",
     "text": [
      "이름: 박지민, 학점: A\n",
      "Test1: 369, Test2: 623.46\n"
     ]
    }
   ],
   "source": [
    "print(\"이름: {}, 학점: {}\".format(\"박지민\",'A'))\n",
    "print(\"Test1: {0:3d}, Test2: {1:3.2f}\".format(369,623.4567))"
   ]
  },
  {
   "cell_type": "markdown",
   "id": "696e5afb",
   "metadata": {},
   "source": [
    "### 2.주석(comment)\n",
    "- 코드에서 #으로 시작하는 뒷 부분을 실행하지 않음\n",
    "- python 소스코드 실행시 #은 무시하고 실행\n",
    "- 개발자(사람)가 보기 위한 용도로 사용\n",
    "- 개발시 주석을 잘 활용하는 사람이 좋은 개발자"
   ]
  },
  {
   "cell_type": "code",
   "execution_count": 30,
   "id": "c839b1cd",
   "metadata": {},
   "outputs": [
    {
     "name": "stdout",
     "output_type": "stream",
     "text": [
      "235437\n"
     ]
    }
   ],
   "source": [
    "\n",
    "student_num=\"235437\"  # 학번(Code Convention (2 blank))\n",
    "\n",
    "\n",
    "# 학번 출력\n",
    "print(student_num)\n"
   ]
  },
  {
   "cell_type": "markdown",
   "id": "2bd72a0b",
   "metadata": {},
   "source": [
    "### 3. 자료형(Type)\n",
    "\n",
    "1.문자열(string):\"Hello\", '3sd3'  # Code Convention in python (Not (') But (\"))\n",
    "2.정수형(int): 3, 0,2354 \n",
    "3.실수형(float):3.0, 0.0, -234.2\n",
    "4.논리형(boolean):True, False\n",
    "\n",
    "\n",
    "- Type() 함수: 함수를 사용해서 자료형 확인 가능\n"
   ]
  },
  {
   "cell_type": "code",
   "execution_count": 41,
   "id": "367dc0e7",
   "metadata": {},
   "outputs": [
    {
     "name": "stdout",
     "output_type": "stream",
     "text": [
      "<class 'float'>\n",
      "<class 'str'>\n"
     ]
    }
   ],
   "source": [
    "print(type(3.14))\n",
    "print(type('hi'))  # Jupyter Notebook 한정 type() 마지막 출력해줌"
   ]
  },
  {
   "cell_type": "markdown",
   "id": "3ca775f1",
   "metadata": {},
   "source": [
    "형변환(Type Casting)\n",
    "\n",
    "-형변환을 사용하면 자료형을 우너한는 type으로 변환 가능\n",
    "\n",
    "1.int(): ()의 값을 정수형 변환   \n",
    "2.float(): ()의 값을 실수형 변환  \n",
    "3.str(): ()의 값을 문자열형 변환"
   ]
  },
  {
   "cell_type": "code",
   "execution_count": 45,
   "id": "ca9bde72",
   "metadata": {},
   "outputs": [],
   "source": [
    "# int(\"hello\") (x)\n",
    "# float(\"Hi\")  (x)\n"
   ]
  },
  {
   "cell_type": "code",
   "execution_count": 51,
   "id": "acb166e8",
   "metadata": {},
   "outputs": [
    {
     "name": "stdout",
     "output_type": "stream",
     "text": [
      "3\n",
      "3.0\n",
      "3\n",
      "3.14\n"
     ]
    },
    {
     "ename": "ValueError",
     "evalue": "invalid literal for int() with base 10: '3.14'",
     "output_type": "error",
     "traceback": [
      "\u001b[1;31m---------------------------------------------------------------------------\u001b[0m",
      "\u001b[1;31mValueError\u001b[0m                                Traceback (most recent call last)",
      "\u001b[1;32mC:\\Users\\Public\\Documents\\ESTsoft\\CreatorTemp/ipykernel_8700/1741826356.py\u001b[0m in \u001b[0;36m<module>\u001b[1;34m\u001b[0m\n\u001b[0;32m     16\u001b[0m \u001b[1;33m\u001b[0m\u001b[0m\n\u001b[0;32m     17\u001b[0m \u001b[1;31m# 문자열 실수형 -> 정수형 (x)\u001b[0m\u001b[1;33m\u001b[0m\u001b[1;33m\u001b[0m\u001b[0m\n\u001b[1;32m---> 18\u001b[1;33m \u001b[0mprint\u001b[0m\u001b[1;33m(\u001b[0m\u001b[0mint\u001b[0m\u001b[1;33m(\u001b[0m\u001b[0md\u001b[0m\u001b[1;33m)\u001b[0m\u001b[1;33m)\u001b[0m\u001b[1;33m\u001b[0m\u001b[1;33m\u001b[0m\u001b[0m\n\u001b[0m\u001b[0;32m     19\u001b[0m \u001b[1;33m\u001b[0m\u001b[0m\n\u001b[0;32m     20\u001b[0m \u001b[1;31m# 문자열 정수형 -> 실수형 (0)\u001b[0m\u001b[1;33m\u001b[0m\u001b[1;33m\u001b[0m\u001b[0m\n",
      "\u001b[1;31mValueError\u001b[0m: invalid literal for int() with base 10: '3.14'"
     ]
    }
   ],
   "source": [
    "# 실수형 -> 정수형 (O)\n",
    "a=3.14\n",
    "print(int(a))\n",
    "\n",
    "# 정수형 -> 실수형 (0)\n",
    "b=3\n",
    "print(float(b))\n",
    "\n",
    "# 문자열 정수 -> 정수형 (0)\n",
    "c='3'  # String\n",
    "print(int(c))\n",
    "\n",
    "# 문자열 실수형 -> 실수형 (0)\n",
    "d='3.14'\n",
    "print(float(d))\n",
    "\n",
    "# 문자열 실수형 -> 정수형 (x)  # (.)의 존재 유무가 정함\n",
    "print(int(d))\n",
    "\n",
    "# 문자열 정수형 -> 실수형 (0)\n",
    "print(float(c))"
   ]
  }
 ],
 "metadata": {
  "kernelspec": {
   "display_name": "Python 3 (ipykernel)",
   "language": "python",
   "name": "python3"
  },
  "language_info": {
   "codemirror_mode": {
    "name": "ipython",
    "version": 3
   },
   "file_extension": ".py",
   "mimetype": "text/x-python",
   "name": "python",
   "nbconvert_exporter": "python",
   "pygments_lexer": "ipython3",
   "version": "3.9.7"
  }
 },
 "nbformat": 4,
 "nbformat_minor": 5
}
