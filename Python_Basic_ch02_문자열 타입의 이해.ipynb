{
 "cells": [
  {
   "cell_type": "markdown",
   "id": "247e6394",
   "metadata": {},
   "source": [
    "## 1.문자열(string)\n",
    "- 복수개의 문자를 순서대로 나열한 것\n",
    "- 문자열은 ''또는 \"\"사이에 문자를 넣어서 생성\n",
    "- 문자열 자체에 ''또는 \"\"이 있는 경우 각각 그 반대로 사용"
   ]
  },
  {
   "cell_type": "code",
   "execution_count": 5,
   "id": "9d5c8557",
   "metadata": {},
   "outputs": [
    {
     "name": "stdout",
     "output_type": "stream",
     "text": [
      "챗봇: '만나서 반갑습니다.'\n"
     ]
    }
   ],
   "source": [
    "print(\"챗봇: '만나서 반갑습니다.'\")"
   ]
  },
  {
   "cell_type": "code",
   "execution_count": 7,
   "id": "6c6a4388",
   "metadata": {},
   "outputs": [
    {
     "name": "stdout",
     "output_type": "stream",
     "text": [
      "Hi\n",
      "Hi\n",
      "\n",
      "      hi\n",
      "      hello\n",
      "      \n",
      "\n",
      "      hi\n",
      "      \n"
     ]
    }
   ],
   "source": [
    "print('Hi')  # 한 줄 출력\n",
    "print(\"Hi\")  # 한 줄 출력\n",
    "print('''\n",
    "      hi\n",
    "      hello\n",
    "      ''')\n",
    "print(\"\"\"\n",
    "      hi\n",
    "      \"\"\")\n"
   ]
  },
  {
   "cell_type": "markdown",
   "id": "ccda59cb",
   "metadata": {},
   "source": [
    "## 2.문자열 인덱스(index)\n",
    "- 문자열의 각 문자는 순서(index)가 있음\n",
    "- 첫번째 문자부터 마지막문자까지 순차적으로 인덱스를 가짐\n",
    "- 인덱스는 공백 포함\n",
    "- 인덱스의 시작은 0번부터 시작"
   ]
  },
  {
   "cell_type": "markdown",
   "id": "ebc29f7e",
   "metadata": {},
   "source": [
    "### 문자 추출\n",
    "- 인덱스번호를 통해서 문자 추출 가능\n",
    "- 인덱스 범위를 벗어나면 error 발생\n",
    "\n",
    "> 변수명[인덱스번호] -> name[3]"
   ]
  },
  {
   "cell_type": "code",
   "execution_count": 15,
   "id": "021728af",
   "metadata": {},
   "outputs": [
    {
     "ename": "IndexError",
     "evalue": "string index out of range",
     "output_type": "error",
     "traceback": [
      "\u001b[1;31m---------------------------------------------------------------------------\u001b[0m",
      "\u001b[1;31mIndexError\u001b[0m                                Traceback (most recent call last)",
      "\u001b[1;32mC:\\Users\\Public\\Documents\\ESTsoft\\CreatorTemp/ipykernel_10164/2520227046.py\u001b[0m in \u001b[0;36m<module>\u001b[1;34m\u001b[0m\n\u001b[0;32m      1\u001b[0m \u001b[0mmsg\u001b[0m\u001b[1;33m=\u001b[0m\u001b[1;34m\"Hello Python\"\u001b[0m\u001b[1;33m\u001b[0m\u001b[1;33m\u001b[0m\u001b[0m\n\u001b[1;32m----> 2\u001b[1;33m \u001b[0mprint\u001b[0m\u001b[1;33m(\u001b[0m\u001b[0mmsg\u001b[0m\u001b[1;33m[\u001b[0m\u001b[1;36m12\u001b[0m\u001b[1;33m]\u001b[0m\u001b[1;33m)\u001b[0m\u001b[1;33m\u001b[0m\u001b[1;33m\u001b[0m\u001b[0m\n\u001b[0m\u001b[0;32m      3\u001b[0m \u001b[1;33m\u001b[0m\u001b[0m\n",
      "\u001b[1;31mIndexError\u001b[0m: string index out of range"
     ]
    }
   ],
   "source": [
    "# 문자열 길이: 12\n",
    "# 인덱스 범위: 0~11\n",
    "msg=\"Hello Python\"\n",
    "print(msg[12])\n",
    "  "
   ]
  },
  {
   "cell_type": "markdown",
   "id": "904bf015",
   "metadata": {},
   "source": [
    "### reverse index(-1)"
   ]
  },
  {
   "cell_type": "code",
   "execution_count": 23,
   "id": "1af12d9f",
   "metadata": {},
   "outputs": [
    {
     "name": "stdout",
     "output_type": "stream",
     "text": [
      "ord\n",
      "o\n"
     ]
    }
   ],
   "source": [
    "msg=\"Hello word\"\n",
    "print(msg[-3:])\n",
    "print(msg[-3])"
   ]
  },
  {
   "cell_type": "markdown",
   "id": "f1bb21a6",
   "metadata": {},
   "source": [
    "### 3. 문자열 슬라이싱\n",
    "- a[3]은 인덱스를 통해 문자 하나만 추출 가능\n",
    "- 부분 문자열을 추출하고 싶은 경우 슬라이싱 사용\n",
    "- 시작 인덱스 번호가 생략되면 0으로 실행\n",
    "- 끝 인덱스 번호가 생략되면 -1으로 설정\n",
    "\n",
    ">변수명[시작:끝] -> name[3:5]   3~4(끝 인덱스 -1)"
   ]
  },
  {
   "cell_type": "code",
   "execution_count": 35,
   "id": "f51cae50",
   "metadata": {},
   "outputs": [
    {
     "name": "stdout",
     "output_type": "stream",
     "text": [
      "Python\n",
      "P\n",
      "Python\n",
      " is all you need\n",
      "Python is all you need\n"
     ]
    }
   ],
   "source": [
    "comment= \"Python is all you need\"\n",
    "\n",
    "print(comment[0:comment.index('n')+1])\n",
    "print(comment[0])  # 0\n",
    "print(comment[:6])  # 0~5\n",
    "print(comment[6:])  # 6~끝\n",
    "print(comment[:])"
   ]
  },
  {
   "cell_type": "code",
   "execution_count": 47,
   "id": "f8eaf976",
   "metadata": {},
   "outputs": [
    {
     "name": "stdout",
     "output_type": "stream",
     "text": [
      "need\n",
      "None\n"
     ]
    }
   ],
   "source": [
    "# need만 추출\n",
    "comment= \"Python is all you need\"\n",
    "print(comment[-4:])\n",
    "\n",
    "list_comment=list(comment[:-5:-1])\n",
    "print(list_comment.reverse())"
   ]
  },
  {
   "cell_type": "markdown",
   "id": "9c9b17e0",
   "metadata": {},
   "source": [
    "## 4. 문자열 멤버 함수\n",
    "\n"
   ]
  },
  {
   "cell_type": "code",
   "execution_count": null,
   "id": "1f6bcc1b",
   "metadata": {},
   "outputs": [],
   "source": [
    "str=\"Hello World\""
   ]
  },
  {
   "cell_type": "code",
   "execution_count": 44,
   "id": "b7d67863",
   "metadata": {},
   "outputs": [
    {
     "name": "stdout",
     "output_type": "stream",
     "text": [
      "11\n"
     ]
    }
   ],
   "source": [
    "# len() : 문자열 길이를 계산\n",
    "str=\"Hello World\"\n",
    "print(len(str))\n"
   ]
  },
  {
   "cell_type": "code",
   "execution_count": 46,
   "id": "d3032f0e",
   "metadata": {},
   "outputs": [
    {
     "name": "stdout",
     "output_type": "stream",
     "text": [
      "HELLO WORLD\n",
      "hello world\n"
     ]
    }
   ],
   "source": [
    "# lower() and upper() : 소문자 또는 대문자로 \n",
    "str=\"Hello World\"\n",
    "print(str.upper())\n",
    "print(str.lower())"
   ]
  },
  {
   "cell_type": "code",
   "execution_count": 53,
   "id": "22311303",
   "metadata": {},
   "outputs": [
    {
     "data": {
      "text/plain": [
       "'jello World'"
      ]
     },
     "execution_count": 53,
     "metadata": {},
     "output_type": "execute_result"
    }
   ],
   "source": [
    "# replace() : 문자열 내의 특정 문자 치환\n",
    "str=\"Hello World\"\n",
    "str.replace(\"H\",\"j\") # 복수개 치환\n"
   ]
  },
  {
   "cell_type": "code",
   "execution_count": 56,
   "id": "9b2cc116",
   "metadata": {
    "scrolled": true
   },
   "outputs": [
    {
     "name": "stdout",
     "output_type": "stream",
     "text": [
      "['hello ', 'orld ', 'hat a nice ', 'eather']\n",
      "['hello', 'world', 'what', 'a', 'nice', 'weather']\n"
     ]
    }
   ],
   "source": [
    "# split() : 구분자를 기준으로 문자열 분할, defalt 구분자 공백\n",
    "a=\"hello world what a nice weather\"\n",
    "print(a.split(\"w\"))\n",
    "print(a.split())"
   ]
  }
 ],
 "metadata": {
  "kernelspec": {
   "display_name": "Python 3 (ipykernel)",
   "language": "python",
   "name": "python3"
  },
  "language_info": {
   "codemirror_mode": {
    "name": "ipython",
    "version": 3
   },
   "file_extension": ".py",
   "mimetype": "text/x-python",
   "name": "python",
   "nbconvert_exporter": "python",
   "pygments_lexer": "ipython3",
   "version": "3.9.7"
  }
 },
 "nbformat": 4,
 "nbformat_minor": 5
}
